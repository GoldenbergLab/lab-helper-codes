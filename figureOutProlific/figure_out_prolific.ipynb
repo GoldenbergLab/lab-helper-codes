{
 "cells": [
  {
   "cell_type": "markdown",
   "metadata": {},
   "source": [
    "This notebook attempts to help you figure out what went wrong between your qualtrics, your prolific, and your json files. The intention is to make the approval process easier because it is harrowing"
   ]
  },
  {
   "cell_type": "markdown",
   "metadata": {},
   "source": [
    "## What you need:\n",
    "- Cleaned final dataset\n",
    "- Prolific data\n",
    "- Qualtrics data\n",
    "- JSON files, sorted into one folder with usable JSON and one folder with unfinished JSON"
   ]
  },
  {
   "cell_type": "code",
   "execution_count": 1,
   "metadata": {},
   "outputs": [],
   "source": [
    "import pandas as pd\n",
    "import os\n",
    "import json"
   ]
  },
  {
   "cell_type": "code",
   "execution_count": 2,
   "metadata": {},
   "outputs": [],
   "source": [
    "final = pd.read_csv(\"3June_cleaned.csv\") #this should be the final dataset (that you have already cleaned)\n",
    "final = set(final.participant_id)\n",
    "\n",
    "qual = pd.read_csv(\"survey.csv\") #this should be the qualtrics file\n",
    "qual = set(qual.Q79) #this should be the participant_id variable\n",
    "\n",
    "#this should be directed to the folder containing the json files\n",
    "jsons = set([i[:-5] for i in os.listdir() if i.endswith(\"json\") ])\n",
    "\n",
    "#this should be directed to the folder containing bad json files\n",
    "bad_jsons = set([i[:-5] for i in os.listdir(\"did_not_finish/\") if i.endswith(\"json\") ])\n",
    "\n",
    "prolific = pd.read_csv(\"prolific_export.csv\")\n",
    "prolific.completed_date_time = pd.to_datetime(prolific.completed_date_time)\n",
    "prolific_finished = set(prolific.dropna(subset = ['completed_date_time']).participant_id)\n",
    "\n",
    "conservative_survey = pd.read_csv(\"conservative_survey.csv\")\n",
    "co = set(conservative_survey.Q79)"
   ]
  },
  {
   "cell_type": "markdown",
   "metadata": {},
   "source": [
    "## Identify the good ids in the final csv. Put them into txt file. Copy the outputs of the txt file into prolific's \"approve by upload\" feature to have them approved there"
   ]
  },
  {
   "cell_type": "code",
   "execution_count": 3,
   "metadata": {},
   "outputs": [],
   "source": [
    "f = open('final_ids.txt', 'w')\n",
    "for i in final:\n",
    "    f.write(i + ',')\n",
    "f.close()\n",
    "\n",
    "#these ids are all acceptable. Paste them into prolific to have them mass-approved\n",
    "#once this is done: redownload the prolific file\n",
    "\n",
    "prolific_a = pd.read_csv(\"prolific_export.csv\")\n",
    "waiting  = set(prolific_a[prolific_a.status== \"AWAITING REVIEW\"].participant_id)"
   ]
  },
  {
   "cell_type": "code",
   "execution_count": 113,
   "metadata": {
    "scrolled": true
   },
   "outputs": [
    {
     "name": "stdout",
     "output_type": "stream",
     "text": [
      "92 95 92 13 100\n"
     ]
    }
   ],
   "source": [
    "print(len(final), len(qual), len(jsons), len(bad_jsons), len(prolific_finished)) #check lengths of each"
   ]
  },
  {
   "cell_type": "code",
   "execution_count": 137,
   "metadata": {},
   "outputs": [
    {
     "name": "stdout",
     "output_type": "stream",
     "text": [
      "5ebe0aebbd76501638272830 is not anywhere aside from prolific\n",
      "\n",
      "\n",
      "5b904ba0407fbc0001673429 in bad jsons\n",
      "\n",
      "\n",
      "5bc5ccc5a850570001c58944 in qual\n",
      "\n",
      "\n",
      "5e3c2a01b2ce5a000b03ecae in qual\n",
      "5e3c2a01b2ce5a000b03ecae in bad jsons\n",
      "\n",
      "\n",
      "5eb17e6d51b70927875f52da is not anywhere aside from prolific\n",
      "\n",
      "\n",
      "5e7f8ec61a07dd66d9880ef7 in qual\n",
      "\n",
      "\n",
      "5ed62e4e957a4d032c321503 in bad jsons\n",
      "\n",
      "\n",
      "5ece6d5d379b4f07291115b7 in bad jsons\n",
      "\n",
      "\n"
     ]
    }
   ],
   "source": [
    "## run this loop to examine where the unapproved ids are in all the files\n",
    "\n",
    "for i in waiting:\n",
    "    if i in final:\n",
    "        print(i + \" in final (should be approved). Why is it here?\")\n",
    "    if i in qual:\n",
    "        print(i + \" in qual\")\n",
    "    if i in jsons:\n",
    "        print(i + \" in jsons\")\n",
    "    if i in bad_jsons:\n",
    "        print(i + \" in bad jsons\")\n",
    "    if i not in jsons and i not in bad_jsons and i not in final and i not in qual:\n",
    "        print(i + \" is not anywhere aside from prolific\")\n",
    "    print(\"\"\"\\n\"\"\")\n",
    "    \n",
    "#throw out: bad jsons"
   ]
  },
  {
   "cell_type": "code",
   "execution_count": null,
   "metadata": {},
   "outputs": [],
   "source": [
    "## keep creating new loops until you solve the problem"
   ]
  }
 ],
 "metadata": {
  "kernelspec": {
   "display_name": "Python 3",
   "language": "python",
   "name": "python3"
  },
  "language_info": {
   "codemirror_mode": {
    "name": "ipython",
    "version": 3
   },
   "file_extension": ".py",
   "mimetype": "text/x-python",
   "name": "python",
   "nbconvert_exporter": "python",
   "pygments_lexer": "ipython3",
   "version": "3.7.4"
  }
 },
 "nbformat": 4,
 "nbformat_minor": 2
}
