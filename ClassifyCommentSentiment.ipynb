{
 "cells": [
  {
   "cell_type": "markdown",
   "metadata": {},
   "source": [
    "This Python code below uses SentiStrength to classify the sentiment of each line of a text file.\n",
    "\n",
    "To start, some Python modules need to be imported."
   ]
  },
  {
   "cell_type": "code",
   "execution_count": 1,
   "metadata": {
    "collapsed": true
   },
   "outputs": [],
   "source": [
    "import subprocess\n",
    "import shlex\n",
    "import os.path\n",
    "import sys"
   ]
  },
  {
   "cell_type": "markdown",
   "metadata": {},
   "source": [
    "Please change the locations below to point to the following on your computer: \n",
    "   * SentiStrength\n",
    "   * the SentiStrength data folder and\n",
    "to make this code work. These are near the top of the code below.\n",
    "The results will be saved to the folder where the YouTube files are kept.\n",
    "Only use forward slashes /."
   ]
  },
  {
   "cell_type": "code",
   "execution_count": 2,
   "metadata": {
    "collapsed": true
   },
   "outputs": [],
   "source": [
    "\n",
    "SentiStrengthLocation = 'C:\\\\Users\\\\chaga\\\\Google Drive\\\\research\\\\network selection\\\\network_regulation_study_2\\\\data\\\\SentiStrength.jar' #The location of SentiStrength on your computer\n",
    "SentiStrengthLanguageFolder = 'C:\\\\Users\\\\chaga\\\\Google Drive\\\\research\\\\network selection\\\\network_regulation_study_2\\\\data\\\\SentiStrength_Data\\\\' #The location of the unzipped SentiStrength data files on your computer"
   ]
  },
  {
   "cell_type": "markdown",
   "metadata": {},
   "source": [
    "The following code tests that the above three locations are correct. If you don't get an error message then this is fine."
   ]
  },
  {
   "cell_type": "code",
   "execution_count": 3,
   "metadata": {},
   "outputs": [
    {
     "name": "stdout",
     "output_type": "stream",
     "text": [
      "files are there\n",
      "files are there\n"
     ]
    }
   ],
   "source": [
    "if not os.path.isfile(SentiStrengthLocation):\n",
    "    print(\"SentiStrength not found at: \", SentiStrengthLocation)\n",
    "else:\n",
    "    print (\"files are there\")\n",
    "if not os.path.isdir(SentiStrengthLanguageFolder):\n",
    "    print(\"SentiStrength data folder not found at: \", SentiStrengthLanguageFolder)\n",
    "else:\n",
    "    print (\"files are there\")"
   ]
  },
  {
   "cell_type": "markdown",
   "metadata": {},
   "source": [
    "The code below allows SentiStrength to be called and run on a single line of text."
   ]
  },
  {
   "cell_type": "code",
   "execution_count": 4,
   "metadata": {
    "collapsed": true
   },
   "outputs": [],
   "source": [
    "def RateSentiment(sentiString):\n",
    "    #open a subprocess using shlex to get the command line string into the correct args list format\n",
    "    p = subprocess.Popen(shlex.split(\"java -jar '\" + SentiStrengthLocation + \"' stdin sentidata '\" + SentiStrengthLanguageFolder + \"'\"),stdin=subprocess.PIPE,stdout=subprocess.PIPE,stderr=subprocess.PIPE)\n",
    "    #communicate via stdin the string to be rated. Note that all spaces are replaced with +\n",
    "    b = bytes(sentiString.replace(\" \",\"+\"), 'utf-8') #Can't send string in Python 3, must send bytes\n",
    "    stdout_byte, stderr_text = p.communicate(b)\n",
    "    stdout_text = stdout_byte.decode(\"utf-8\")  #convert from byte\n",
    "    stdout_text = stdout_text.rstrip().replace(\"\\t\",\" \") #remove the tab spacing between the positive and negative ratings. e.g. 1    -5 -> 1 -5\n",
    "    stdout_text = stdout_text.rstrip().replace(\" \",\",\") #remove the tab spacing between the positive and negative ratings. e.g. 1    -5 -> 1 -5\n",
    "    return stdout_text + \",\" + sentiString"
   ]
  },
  {
   "cell_type": "markdown",
   "metadata": {},
   "source": [
    "The above procedure can now be called to test if SentiStrength is working. This should generate the output 3 and -1.\n",
    "You can change the text to classify something else if you like."
   ]
  },
  {
   "cell_type": "code",
   "execution_count": 5,
   "metadata": {},
   "outputs": [
    {
     "name": "stdout",
     "output_type": "stream",
     "text": [
      "2,-1,A lovely day!\n"
     ]
    }
   ],
   "source": [
    "print(RateSentiment(\"A lovely day!\"))"
   ]
  },
  {
   "cell_type": "markdown",
   "metadata": {},
   "source": [
    "If all the tests are successful then SentiStrength can be run on a file.\n",
    "Enter the location of the file below."
   ]
  },
  {
   "cell_type": "code",
   "execution_count": 7,
   "metadata": {
    "collapsed": true
   },
   "outputs": [],
   "source": [
    "FileToClassify = \"C:\\\\Users\\\\chaga\\\\Google Drive\\\\research\\\\network selection\\\\network_regulation_study_2\\\\data\\\\allText.txt\" #The location of the file that you want classified.\n",
    "if not os.path.isfile(FileToClassify):\n",
    "    print(\"File to classify not found at: \", FileToClassify)"
   ]
  },
  {
   "cell_type": "markdown",
   "metadata": {},
   "source": [
    "Now SentiStrength can be run to classify all the lines of the above file."
   ]
  },
  {
   "cell_type": "code",
   "execution_count": 8,
   "metadata": {},
   "outputs": [
    {
     "name": "stdout",
     "output_type": "stream",
     "text": [
      "Finished! The results will be in:\n",
      "C:\\Users\\chaga\\Google Drive\\research\\network selection\\network_regulation_study_2\\data\\allText0_out.txt\n"
     ]
    }
   ],
   "source": [
    "classifiedSentimentFile = os.path.splitext(FileToClassify)[0] + \"0_out.txt\"\n",
    "\n",
    "with open(FileToClassify) as f:\n",
    "    for line in f:\n",
    "        p = subprocess.Popen(shlex.split(\"java -jar '\" + SentiStrengthLocation + \"' stdin sentidata '\" + SentiStrengthLanguageFolder + \"'\"),stdin=subprocess.PIPE,stdout=subprocess.PIPE,stderr=subprocess.PIPE)\n",
    "        b = bytes(line.replace(\" \",\"+\"), 'utf-8') #Can't send string in Python 3, must send bytes\n",
    "        stdout_byte, stderr_text = p.communicate(b)\n",
    "        stdout_text = stdout_byte.decode(\"utf-8\")  #convert from byte\n",
    "        #stdout_text = stdout_text.rstrip().replace(\"\\t\",\" \") #remove the tab spacing between the positive and negative ratings. e.g. 1    -5 -> 1 -5\n",
    "        stdout_text = stdout_text.rstrip().replace(\" \",\"\\t\") #remove the tab spacing between the positive and negative ratings. e.g. 1    -5 -> 1 -5\n",
    "        #print (stdout_text + \"\\t\" + line)    \n",
    "        with open(classifiedSentimentFile, \"a\") as myfile:\n",
    "            myfile.write(stdout_text + \"\\t\" + line)\n",
    "\n",
    "print(\"Finished! The results will be in:\\n\" + classifiedSentimentFile)"
   ]
  }
 ],
 "metadata": {
  "kernelspec": {
   "display_name": "Python 3",
   "language": "python",
   "name": "python3"
  },
  "language_info": {
   "codemirror_mode": {
    "name": "ipython",
    "version": 3
   },
   "file_extension": ".py",
   "mimetype": "text/x-python",
   "name": "python",
   "nbconvert_exporter": "python",
   "pygments_lexer": "ipython3",
   "version": "3.6.4"
  }
 },
 "nbformat": 4,
 "nbformat_minor": 2
}
